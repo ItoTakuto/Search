{
 "cells": [
  {
   "cell_type": "markdown",
   "metadata": {},
   "source": [
    "# Searching & Sorting (探索とソート)\n",
    "\n",
    "#### スライドのアルゴリズムを元に, 以下の探索・ソートアルゴリズムを実装してみましょう.  "
   ]
  },
  {
   "cell_type": "markdown",
   "metadata": {},
   "source": [
    "## Searching (探索)"
   ]
  },
  {
   "cell_type": "markdown",
   "metadata": {},
   "source": [
    "### #1 Jump Search\n",
    "\n",
    "ソート済みのリスト中に値が存在する場合はそのインデックスを, 存在しない場合は False を返す **jumpSearch** 関数を定義してください. "
   ]
  },
  {
   "cell_type": "code",
   "execution_count": 1,
   "metadata": {},
   "outputs": [],
   "source": [
    "def jumpSearch01(lst, x, y):\n",
    "    if len(lst) >= y:\n",
    "        if x <= lst[y-1] :\n",
    "            if x in lst[:y]:\n",
    "                return x\n",
    "            else:\n",
    "                return False\n",
    "        else:\n",
    "            return jumpSearch01(lst[y:], x, y)        \n",
    "    else:\n",
    "        if x in lst:\n",
    "            return x\n",
    "        else:\n",
    "             return False"
   ]
  },
  {
   "cell_type": "code",
   "execution_count": 2,
   "metadata": {},
   "outputs": [
    {
     "name": "stdout",
     "output_type": "stream",
     "text": [
      "[19, 24, 30, 44, 46, 50, 52, 60, 65, 67]\n",
      "False\n",
      "1\n",
      "7\n",
      "19\n",
      "24\n",
      "False\n",
      "44\n",
      "52\n",
      "60\n",
      "False\n",
      "65\n",
      "67\n",
      "False\n"
     ]
    }
   ],
   "source": [
    "lst1 = [1, 4, 7, 19, 24, 30, 44, 46, 50, 52, 60, 65, 67]\n",
    "print(lst1[3:])\n",
    "print(jumpSearch01(lst1, 0, 3))\n",
    "print(jumpSearch01(lst1, 1, 3))\n",
    "print(jumpSearch01(lst1, 7, 3))\n",
    "print(jumpSearch01(lst1, 19, 3))\n",
    "print(jumpSearch01(lst1, 24, 3))\n",
    "print(jumpSearch01(lst1, 26, 3))\n",
    "print(jumpSearch01(lst1, 44, 3))\n",
    "print(jumpSearch01(lst1, 52, 3))\n",
    "print(jumpSearch01(lst1, 60, 3))\n",
    "print(jumpSearch01(lst1, 63, 3))\n",
    "print(jumpSearch01(lst1, 65, 3))\n",
    "print(jumpSearch01(lst1, 67, 3))\n",
    "print(jumpSearch01(lst1, 68, 3))"
   ]
  },
  {
   "cell_type": "code",
   "execution_count": 3,
   "metadata": {},
   "outputs": [],
   "source": [
    "y = round(len(lst1)**(1/2)) -1\n",
    "def jumpSearch(lst, x):\n",
    "    if lst == []:\n",
    "        return False\n",
    "    else:\n",
    "        if y <= len(lst):\n",
    "            if x <= lst[y-1]:\n",
    "                if x in lst[:y]:\n",
    "                    return x\n",
    "                else:\n",
    "                    return False\n",
    "            else:\n",
    "                return jumpSearch(lst[y:],x)\n",
    "        else:\n",
    "            if x in lst:\n",
    "                return x\n",
    "            else:\n",
    "                return False"
   ]
  },
  {
   "cell_type": "markdown",
   "metadata": {},
   "source": [
    "### Driver code\n",
    "\n",
    "それでは, 上記で定義した関数を以下のセルを用いてテストしてみましょう.  "
   ]
  },
  {
   "cell_type": "code",
   "execution_count": 4,
   "metadata": {},
   "outputs": [
    {
     "name": "stdout",
     "output_type": "stream",
     "text": [
      "3\n",
      "[1, 4, 7, 19, 24, 30, 44, 46, 50, 52, 60, 65, 67]\n",
      "24\n",
      "False\n",
      "False\n",
      "1\n",
      "7\n",
      "19\n",
      "24\n",
      "False\n",
      "44\n",
      "46\n",
      "52\n",
      "60\n",
      "False\n",
      "65\n",
      "67\n",
      "False\n"
     ]
    }
   ],
   "source": [
    "lst1 = [1, 4, 7, 19, 24, 30, 44, 46, 50, 52, 60, 65, 67]\n",
    "print(y)\n",
    "print(lst1)\n",
    "print(jumpSearch(lst1, 24))\n",
    "print(jumpSearch(lst1, 26))\n",
    "print(jumpSearch(lst1, 0))\n",
    "print(jumpSearch(lst1, 1))\n",
    "print(jumpSearch(lst1, 7))\n",
    "print(jumpSearch(lst1, 19))\n",
    "print(jumpSearch(lst1, 24))\n",
    "print(jumpSearch(lst1, 26))\n",
    "print(jumpSearch(lst1, 44))\n",
    "print(jumpSearch(lst1, 46))\n",
    "print(jumpSearch(lst1, 52))\n",
    "print(jumpSearch(lst1, 60))\n",
    "print(jumpSearch(lst1, 63))\n",
    "print(jumpSearch(lst1, 65))\n",
    "print(jumpSearch(lst1, 67))\n",
    "print(jumpSearch(lst1, 68))"
   ]
  },
  {
   "cell_type": "markdown",
   "metadata": {},
   "source": [
    "#### #2 Interpolation Search\n",
    "\n",
    "ソート済みのリスト中に値が存在する場合はそのインデックスを, 存在しない場合は False を返す **interpolationSearch** 関数を定義してください. "
   ]
  },
  {
   "cell_type": "code",
   "execution_count": 5,
   "metadata": {},
   "outputs": [],
   "source": [
    "def interpolationSearch(lst, x):\n",
    "    if lst == []:\n",
    "        return False\n",
    "    else:\n",
    "        pos = 0 + ((x - lst[0]) * (len(lst)-1 - 0)) / (lst[-1] - lst[0])\n",
    "        print(pos)\n",
    "        if x == lst[round(pos)]:\n",
    "            return x\n",
    "        else:\n",
    "            return False"
   ]
  },
  {
   "cell_type": "code",
   "execution_count": 6,
   "metadata": {},
   "outputs": [
    {
     "ename": "NameError",
     "evalue": "name 'lower' is not defined",
     "output_type": "error",
     "traceback": [
      "\u001b[0;31m---------------------------------------------------------------------------\u001b[0m",
      "\u001b[0;31mNameError\u001b[0m                                 Traceback (most recent call last)",
      "\u001b[0;32m<ipython-input-6-571ff61c18e6>\u001b[0m in \u001b[0;36m<module>\u001b[0;34m\u001b[0m\n\u001b[0;32m----> 1\u001b[0;31m \u001b[0mpos\u001b[0m \u001b[0;34m=\u001b[0m \u001b[0mlower\u001b[0m \u001b[0;34m+\u001b[0m \u001b[0;34m(\u001b[0m\u001b[0;34m(\u001b[0m\u001b[0mx\u001b[0m \u001b[0;34m-\u001b[0m \u001b[0mlst\u001b[0m\u001b[0;34m[\u001b[0m\u001b[0mlower\u001b[0m\u001b[0;34m]\u001b[0m\u001b[0;34m)\u001b[0m \u001b[0;34m*\u001b[0m \u001b[0;34m(\u001b[0m\u001b[0mupper\u001b[0m \u001b[0;34m-\u001b[0m \u001b[0mlower\u001b[0m\u001b[0;34m)\u001b[0m\u001b[0;34m)\u001b[0m \u001b[0;34m/\u001b[0m \u001b[0;34m(\u001b[0m\u001b[0mlst\u001b[0m\u001b[0;34m[\u001b[0m\u001b[0mupper\u001b[0m\u001b[0;34m]\u001b[0m \u001b[0;34m-\u001b[0m \u001b[0mlst\u001b[0m\u001b[0;34m[\u001b[0m\u001b[0mlower\u001b[0m\u001b[0;34m]\u001b[0m\u001b[0;34m)\u001b[0m\u001b[0;34m\u001b[0m\u001b[0;34m\u001b[0m\u001b[0m\n\u001b[0m",
      "\u001b[0;31mNameError\u001b[0m: name 'lower' is not defined"
     ]
    }
   ],
   "source": [
    "pos = lower + ((x - lst[lower]) * (upper - lower)) / (lst[upper] - lst[lower])"
   ]
  },
  {
   "cell_type": "markdown",
   "metadata": {},
   "source": [
    "### Driver code\n",
    "\n",
    "それでは, 上記で定義した関数を以下のセルを用いてテストしてみましょう.  "
   ]
  },
  {
   "cell_type": "code",
   "execution_count": 7,
   "metadata": {},
   "outputs": [
    {
     "name": "stdout",
     "output_type": "stream",
     "text": [
      "4.181818181818182\n",
      "24\n",
      "4.545454545454546\n",
      "False\n"
     ]
    }
   ],
   "source": [
    "lst1 = [1, 4, 7, 19, 24, 30, 44, 46, 50, 52, 60, 65, 67]\n",
    "lst0 = [1,3,5,9,22,66,73,77,78,79]\n",
    "print(interpolationSearch(lst1, 24))\n",
    "print(interpolationSearch(lst1, 26))"
   ]
  },
  {
   "cell_type": "markdown",
   "metadata": {},
   "source": [
    "## Sorting (ソート)"
   ]
  },
  {
   "cell_type": "markdown",
   "metadata": {},
   "source": [
    "### #1 Bubble Sort\n",
    "\n",
    "与えられたリストをソートする関数 **bubbleSort** を定義してください.  "
   ]
  },
  {
   "cell_type": "code",
   "execution_count": 8,
   "metadata": {},
   "outputs": [],
   "source": [
    "def bubbleSort00(lst, a, b):\n",
    "    if len(lst) == 0:\n",
    "        return 'リストに格納してください'\n",
    "    if b == len(lst):\n",
    "        return lst\n",
    "    else:\n",
    "        if lst[a] > lst[b]:\n",
    "            lst[a], lst[b] = lst[b], lst[a] \n",
    "            bubbleSort00(lst, a, b)\n",
    "        if lst[a] < lst[b]:\n",
    "            bubbleSort00(lst, a+1, b+1)\n",
    "        else:\n",
    "            return bubbleSort00(lst, a+1, b+1)"
   ]
  },
  {
   "cell_type": "code",
   "execution_count": 9,
   "metadata": {
    "scrolled": true
   },
   "outputs": [
    {
     "name": "stdout",
     "output_type": "stream",
     "text": [
      "Original list: [3, 0, 8, 1, 29, 11, 26, 6, 1]\n",
      "Sorted list: [0, 1, 1, 3, 6, 8, 11, 26, 29]\n"
     ]
    }
   ],
   "source": [
    "lst2 = [3, 0, 8, 1, 29, 11, 26, 6, 1]\n",
    "print('Original list:', lst2)\n",
    "bubbleSort00(lst2, 0, 1)\n",
    "print('Sorted list:', lst2)"
   ]
  },
  {
   "cell_type": "code",
   "execution_count": 10,
   "metadata": {},
   "outputs": [],
   "source": [
    "def bubbleSort(lst):\n",
    "    if len(lst) == 0:\n",
    "        return \"リストに格納してください\"\n",
    "    if len(lst) == 1:\n",
    "        return lst\n",
    "    else:\n",
    "        i = 0\n",
    "        j = 0\n",
    "        while (i != len(lst)-1):\n",
    "            if lst[i] > lst[i+1] :\n",
    "                lst[i], lst[i+1] = lst[i+1], lst[i]\n",
    "                i += 1\n",
    "                print(lst)\n",
    "            else:\n",
    "                j += 1\n",
    "                i += 1\n",
    "                if j == len(lst)-1:\n",
    "                    return lst\n",
    "        return bubbleSort(lst)"
   ]
  },
  {
   "cell_type": "markdown",
   "metadata": {},
   "source": [
    "### Driver code\n",
    "\n",
    "それでは, 上記で定義した関数を以下のセルを用いてテストしてみましょう. "
   ]
  },
  {
   "cell_type": "code",
   "execution_count": 11,
   "metadata": {},
   "outputs": [
    {
     "name": "stdout",
     "output_type": "stream",
     "text": [
      "Original list: [3, 0, 8, 1, 29, 11, 26, 6, 1]\n",
      "[0, 3, 8, 1, 29, 11, 26, 6, 1]\n",
      "[0, 3, 1, 8, 29, 11, 26, 6, 1]\n",
      "[0, 3, 1, 8, 11, 29, 26, 6, 1]\n",
      "[0, 3, 1, 8, 11, 26, 29, 6, 1]\n",
      "[0, 3, 1, 8, 11, 26, 6, 29, 1]\n",
      "[0, 3, 1, 8, 11, 26, 6, 1, 29]\n",
      "[0, 1, 3, 8, 11, 26, 6, 1, 29]\n",
      "[0, 1, 3, 8, 11, 6, 26, 1, 29]\n",
      "[0, 1, 3, 8, 11, 6, 1, 26, 29]\n",
      "[0, 1, 3, 8, 6, 11, 1, 26, 29]\n",
      "[0, 1, 3, 8, 6, 1, 11, 26, 29]\n",
      "[0, 1, 3, 6, 8, 1, 11, 26, 29]\n",
      "[0, 1, 3, 6, 1, 8, 11, 26, 29]\n",
      "[0, 1, 3, 1, 6, 8, 11, 26, 29]\n",
      "[0, 1, 1, 3, 6, 8, 11, 26, 29]\n",
      "Sorted list: [0, 1, 1, 3, 6, 8, 11, 26, 29]\n"
     ]
    }
   ],
   "source": [
    "lst = [3, 0, 8, 1, 29, 11, 26, 6, 1]\n",
    "print('Original list:', lst)\n",
    "bubbleSort(lst)\n",
    "print('Sorted list:', lst)"
   ]
  },
  {
   "cell_type": "markdown",
   "metadata": {},
   "source": [
    "### #2 Quick Sort\n",
    "\n",
    "与えられたリストをソートする関数 **quickSort** を定義してください.  "
   ]
  },
  {
   "cell_type": "code",
   "execution_count": 12,
   "metadata": {},
   "outputs": [],
   "source": [
    "import random\n",
    "def quickSort(lst):\n",
    "    pivot = random.choice(lst)\n",
    "    print(\"pivot\", pivot)\n",
    "    if len(lst) == 0:\n",
    "        return \"リストに格納してください\"\n",
    "\n",
    "    else:\n",
    "        i = 0\n",
    "        j = 0\n",
    "        while (lst[i] != pivot):\n",
    "            if lst[j] <= lst[j+1]:\n",
    "                j += 1\n",
    "                if j == len(lst)-1:\n",
    "                    return lst\n",
    "            \n",
    "            if lst[i] <= pivot :\n",
    "                i += 1\n",
    "                continue\n",
    "\n",
    "            if lst[i] > pivot:\n",
    "                lst.append(lst[i])\n",
    "                lst.pop(i)\n",
    "                if i > 0:    \n",
    "                    i -= 1\n",
    "                    j -= 1\n",
    "            print(lst) \n",
    "            \n",
    "    return quickSort(lst)"
   ]
  },
  {
   "cell_type": "markdown",
   "metadata": {},
   "source": [
    "### Driver code\n",
    "\n",
    "それでは, 上記で定義した関数を以下のセルを用いてテストしてみましょう. "
   ]
  },
  {
   "cell_type": "code",
   "execution_count": 13,
   "metadata": {},
   "outputs": [
    {
     "name": "stdout",
     "output_type": "stream",
     "text": [
      "Original list: [3, 0, 8, 1, 29, 11, 26, 6, 1]\n",
      "pivot 11\n",
      "[3, 0, 8, 1, 11, 26, 6, 1, 29]\n",
      "pivot 1\n",
      "[0, 8, 1, 11, 26, 6, 1, 29, 3]\n",
      "[0, 1, 11, 26, 6, 1, 29, 3, 8]\n",
      "pivot 1\n",
      "pivot 11\n",
      "pivot 1\n",
      "pivot 0\n",
      "pivot 6\n",
      "[0, 1, 26, 6, 1, 29, 3, 8, 11]\n",
      "[0, 1, 6, 1, 29, 3, 8, 11, 26]\n",
      "pivot 1\n",
      "pivot 3\n",
      "[0, 1, 1, 29, 3, 8, 11, 26, 6]\n",
      "[0, 1, 1, 3, 8, 11, 26, 6, 29]\n",
      "pivot 11\n",
      "pivot 3\n",
      "pivot 6\n",
      "[0, 1, 1, 3, 11, 26, 6, 29, 8]\n",
      "[0, 1, 1, 3, 26, 6, 29, 8, 11]\n",
      "[0, 1, 1, 3, 6, 29, 8, 11, 26]\n",
      "pivot 1\n",
      "pivot 1\n",
      "pivot 8\n",
      "[0, 1, 1, 3, 6, 8, 11, 26, 29]\n",
      "pivot 0\n",
      "pivot 26\n",
      "pivot 3\n",
      "pivot 6\n",
      "pivot 11\n",
      "pivot 26\n",
      "pivot 29\n",
      "Sorted list: [0, 1, 1, 3, 6, 8, 11, 26, 29]\n"
     ]
    }
   ],
   "source": [
    "lst = [3, 0, 8, 1, 29, 11, 26, 6, 1]\n",
    "print('Original list:', lst)\n",
    "quickSort(lst)\n",
    "print('Sorted list:', lst)"
   ]
  },
  {
   "cell_type": "code",
   "execution_count": 14,
   "metadata": {},
   "outputs": [],
   "source": [
    "def QuickSort(lst):\n",
    "    if len(lst) == 0:\n",
    "        return \"リストに格納してください\"\n",
    "    if len(lst) == 1:\n",
    "        return lst\n",
    "    else:\n",
    "        j = 0\n",
    "        while (j != len(lst)-1):                \n",
    "            if lst[j] <= lst[j + 1]:\n",
    "                 j += 1\n",
    "            else:\n",
    "                lst.append(lst[j])\n",
    "                lst.pop(lst.index(lst[j]))\n",
    "                print(lst)\n",
    "                j -= 1\n",
    "                if lst[j] <= lst[j+1]:\n",
    "                    j -= 1\n",
    "                    return QuickSort(lst)\n",
    "        return lst"
   ]
  },
  {
   "cell_type": "code",
   "execution_count": 15,
   "metadata": {},
   "outputs": [
    {
     "name": "stdout",
     "output_type": "stream",
     "text": [
      "Original list: [3, 0, 8, 1, 29, 11, 26, 6, 1]\n",
      "[0, 8, 1, 29, 11, 26, 6, 1, 3]\n",
      "[0, 8, 1, 29, 11, 26, 6, 1, 3]\n",
      "[0, 1, 29, 11, 26, 6, 1, 3, 8]\n",
      "[0, 1, 11, 26, 6, 1, 3, 8, 29]\n",
      "[0, 1, 11, 6, 1, 3, 8, 29, 26]\n",
      "[0, 1, 6, 1, 3, 8, 29, 26, 11]\n",
      "[0, 1, 1, 3, 8, 29, 26, 11, 6]\n",
      "[0, 1, 1, 3, 8, 26, 11, 6, 29]\n",
      "[0, 1, 1, 3, 8, 11, 6, 29, 26]\n",
      "[0, 1, 1, 3, 8, 6, 29, 26, 11]\n",
      "[0, 1, 1, 3, 6, 29, 26, 11, 8]\n",
      "[0, 1, 1, 3, 6, 26, 11, 8, 29]\n",
      "[0, 1, 1, 3, 6, 11, 8, 29, 26]\n",
      "[0, 1, 1, 3, 6, 8, 29, 26, 11]\n",
      "[0, 1, 1, 3, 6, 8, 26, 11, 29]\n",
      "[0, 1, 1, 3, 6, 8, 11, 29, 26]\n",
      "[0, 1, 1, 3, 6, 8, 11, 26, 29]\n",
      "Sorted list: [0, 1, 1, 3, 6, 8, 11, 26, 29]\n"
     ]
    }
   ],
   "source": [
    "lst = [3, 0, 8, 1, 29, 11, 26, 6, 1]\n",
    "print('Original list:', lst)\n",
    "QuickSort(lst)\n",
    "print('Sorted list:', lst)"
   ]
  }
 ],
 "metadata": {
  "kernelspec": {
   "display_name": "Python 3",
   "language": "python",
   "name": "python3"
  },
  "language_info": {
   "codemirror_mode": {
    "name": "ipython",
    "version": 3
   },
   "file_extension": ".py",
   "mimetype": "text/x-python",
   "name": "python",
   "nbconvert_exporter": "python",
   "pygments_lexer": "ipython3",
   "version": "3.7.4"
  }
 },
 "nbformat": 4,
 "nbformat_minor": 2
}
